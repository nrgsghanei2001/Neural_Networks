{
 "cells": [
  {
   "cell_type": "markdown",
   "metadata": {},
   "source": [
    "### Mcculloch-Pitts Neuron\n",
    "\n",
    "This object represents a neuron which has some input weights and a threshold. It gets input and if weighted sum of its inputs with its weights get greather than its threshold, becomes active.\n",
    "\n",
    "activate if $\\sum_{}^{}w_{i}\\times input_{i}\\gt \\theta$"
   ]
  },
  {
   "cell_type": "code",
   "execution_count": 11,
   "metadata": {},
   "outputs": [],
   "source": [
    "class MCNeuron:\n",
    "\n",
    "    def __init__(self, weights, threshold):\n",
    "        self.weights   = weights\n",
    "        self.threshold = threshold\n",
    "\n",
    "\n",
    "    def activate(self, inputs):\n",
    "\n",
    "        weighted_sum = sum(w * i for w, i in zip(self.weights, inputs))\n",
    "        if weighted_sum >= self.threshold:\n",
    "            return True\n",
    "        return False"
   ]
  },
  {
   "cell_type": "markdown",
   "metadata": {},
   "source": [
    "### Mcculloch-Pitts Network\n",
    "\n",
    "This object holds the properties of network. It gets its layers and simulate network with given input and returns the last layers output as the networks output."
   ]
  },
  {
   "cell_type": "code",
   "execution_count": 12,
   "metadata": {},
   "outputs": [],
   "source": [
    "class MCNetwork:\n",
    "\n",
    "    def __init__(self):\n",
    "        self.layers = []\n",
    "\n",
    "    \n",
    "    def add_layer(self, neurons):\n",
    "        self.layers.append(neurons)\n",
    "\n",
    "    \n",
    "    def simulate(self, input):\n",
    "        \n",
    "        for layer in self.layers:\n",
    "            output = []\n",
    "            for neuron in layer:\n",
    "                out = neuron.activate(input)\n",
    "                # print(out)\n",
    "                output.append(out)\n",
    "\n",
    "            input = output\n",
    "\n",
    "        return output       \n"
   ]
  },
  {
   "cell_type": "markdown",
   "metadata": {},
   "source": [
    "### Main\n",
    "\n",
    "Here, I initialized neurons which I draw in my report with their weights and then I simulate the network on all possible inputs.\n",
    "\n",
    "This network is for accepting binary strings which contain 100 in themselves.\n",
    "\n",
    "The first 2 neurons are representing current state and the third neuron represents output whcih is 0 or 1. Then output of all these 3 neurons go to the next layer or output layer and if we where in state 11(3) and the networks output where 1 it returns label True which means given string, contains 100."
   ]
  },
  {
   "cell_type": "code",
   "execution_count": 13,
   "metadata": {},
   "outputs": [
    {
     "name": "stdout",
     "output_type": "stream",
     "text": [
      "On input [0, 0, 0], network's output is: [False]\n",
      "On input [0, 0, 1], network's output is: [False]\n",
      "On input [0, 1, 0], network's output is: [False]\n",
      "On input [0, 1, 1], network's output is: [False]\n",
      "On input [1, 0, 0], network's output is: [True]\n",
      "On input [1, 0, 1], network's output is: [False]\n",
      "On input [1, 1, 0], network's output is: [True]\n",
      "On input [1, 1, 1], network's output is: [True]\n"
     ]
    }
   ],
   "source": [
    "# neurons initialization\n",
    "Q1 = MCNeuron([2, 2, -1], 2)\n",
    "Q2 = MCNeuron([2, 1, 2], 2)\n",
    "Q3 = MCNeuron([4, 1, -3], 2)\n",
    "Qout = MCNeuron([1, 1, 1], 3)\n",
    "\n",
    "# network initialization\n",
    "net = MCNetwork()\n",
    "net.add_layer([Q1, Q2, Q3])\n",
    "net.add_layer([Qout])\n",
    "\n",
    "# all possible inputs\n",
    "inputs = [\n",
    "          [0, 0, 0],\n",
    "          [0, 0, 1],\n",
    "          [0, 1, 0],\n",
    "          [0, 1, 1],\n",
    "          [1, 0, 0],\n",
    "          [1, 0, 1],\n",
    "          [1, 1, 0],\n",
    "          [1, 1, 1]\n",
    "          ]\n",
    "\n",
    "# simulate network on all inputs\n",
    "for input in inputs:\n",
    "    output = net.simulate(input)\n",
    "\n",
    "    print(f\"On input {input}, network's output is: {output}\")"
   ]
  }
 ],
 "metadata": {
  "kernelspec": {
   "display_name": "Python 3",
   "language": "python",
   "name": "python3"
  },
  "language_info": {
   "codemirror_mode": {
    "name": "ipython",
    "version": 3
   },
   "file_extension": ".py",
   "mimetype": "text/x-python",
   "name": "python",
   "nbconvert_exporter": "python",
   "pygments_lexer": "ipython3",
   "version": "3.9.13"
  }
 },
 "nbformat": 4,
 "nbformat_minor": 2
}
